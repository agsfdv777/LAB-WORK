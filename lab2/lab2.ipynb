{
 "cells": [
  {
   "cell_type": "markdown",
   "metadata": {},
   "source": [
    "# Python basics  \n",
    "##### by zayats1"
   ]
  },
  {
   "cell_type": "markdown",
   "metadata": {},
   "source": [
    "## my first python program"
   ]
  },
  {
   "cell_type": "code",
   "execution_count": 154,
   "metadata": {},
   "outputs": [
    {
     "name": "stdout",
     "output_type": "stream",
     "text": [
      "nvidia, f**k you!\n"
     ]
    }
   ],
   "source": [
    "print(\"nvidia, f**k you!\")  # Linus said"
   ]
  },
  {
   "cell_type": "markdown",
   "metadata": {},
   "source": [
    "##"
   ]
  },
  {
   "cell_type": "markdown",
   "metadata": {},
   "source": [
    "## Variables"
   ]
  },
  {
   "cell_type": "markdown",
   "metadata": {},
   "source": [
    "Variables are containers for storing data values."
   ]
  },
  {
   "cell_type": "markdown",
   "metadata": {},
   "source": [
    "### numbers"
   ]
  },
  {
   "cell_type": "code",
   "execution_count": 155,
   "metadata": {},
   "outputs": [
    {
     "name": "stdout",
     "output_type": "stream",
     "text": [
      "numbers:\n",
      "4 81\n"
     ]
    }
   ],
   "source": [
    "print(\"numbers:\")\n",
    "num1 = 4\n",
    "num2 = 81\n",
    "print(num1, num2)\n"
   ]
  },
  {
   "cell_type": "markdown",
   "metadata": {},
   "source": [
    "#### built in functions for comparison"
   ]
  },
  {
   "cell_type": "code",
   "execution_count": 156,
   "metadata": {},
   "outputs": [
    {
     "name": "stdout",
     "output_type": "stream",
     "text": [
      "max\n",
      "81\n",
      "min\n",
      "4\n"
     ]
    }
   ],
   "source": [
    "print(\"max\")\n",
    "print(max(num1, num2))\n",
    "\n",
    "print(\"min\")\n",
    "print(min(num1, num2))"
   ]
  },
  {
   "cell_type": "markdown",
   "metadata": {},
   "source": [
    "#### decimal type"
   ]
  },
  {
   "cell_type": "code",
   "execution_count": 157,
   "metadata": {},
   "outputs": [
    {
     "name": "stdout",
     "output_type": "stream",
     "text": [
      "float = 8.666 rounded = 9\n"
     ]
    }
   ],
   "source": [
    "float = 8.666\n",
    "print(\"float =\", float, \"rounded =\", round(float))\n"
   ]
  },
  {
   "cell_type": "code",
   "execution_count": 158,
   "metadata": {},
   "outputs": [
    {
     "name": "stdout",
     "output_type": "stream",
     "text": [
      "indices:\n",
      "P\n",
      "5\n",
      "5\n",
      "Replace:\n",
      "Puck yew,nvidia!\n"
     ]
    }
   ],
   "source": [
    "phrase = \"Puck yew,leatherman!\"\n",
    "\n",
    "print(\"indices:\")\n",
    "print(phrase[0])\n",
    "print(phrase.index(\"y\"))\n",
    "print(phrase.index(\"yew\"))\n",
    "\n",
    "print(\"Replace:\")\n",
    "print(phrase.replace(\"leatherman\", \"nvidia\"))\n"
   ]
  },
  {
   "cell_type": "markdown",
   "metadata": {},
   "source": [
    "### tuples\n",
    "* Tuples are used to store multiple items in a single variable.\n",
    "\n",
    "* Tuple is one of 4 built-in data types in Python used to store collections of data, the other 3 are List, Set, and Dictionary, all with different qualities and usage.\n",
    "\n",
    "* A tuple is a collection which is ordered and unchangeable.\n",
    "\n",
    "* Tuples are written with round brackets.\n",
    "\n"
   ]
  },
  {
   "cell_type": "code",
   "execution_count": 159,
   "metadata": {},
   "outputs": [
    {
     "name": "stdout",
     "output_type": "stream",
     "text": [
      "(14, 41)\n",
      "14\n",
      "[(14, 41), (4, 5), (-8, 8), ('s', 4)]\n"
     ]
    }
   ],
   "source": [
    "coordinates = (14, 41)\n",
    "print(coordinates)\n",
    "print(coordinates[0])\n",
    "\n",
    "coordinates = [(14, 41), (4, 5), (-8, 8), (\"s\", 4)]\n",
    "print(coordinates)\n"
   ]
  },
  {
   "cell_type": "markdown",
   "metadata": {},
   "source": [
    "### lists\n",
    "\n",
    "* Lists are used to store multiple items in a single variable.\n",
    "\n",
    "* Lists are one of 4 built-in data types in Python used to store collections of data, the other 3 are Tuple, Set, and Dictionary, all with different qualities and usage.\n",
    "\n",
    "* Lists are created using square brackets:"
   ]
  },
  {
   "cell_type": "code",
   "execution_count": 160,
   "metadata": {},
   "outputs": [
    {
     "name": "stdout",
     "output_type": "stream",
     "text": [
      "a\n",
      "1\n",
      "1.25\n",
      "Слово\n",
      " не \n",
      "sparrow\n",
      "True\n"
     ]
    }
   ],
   "source": [
    "c = [\"a\", 1, 1.25, \"Слово\", \" не \", \"sparrow\", True]\n",
    "\n",
    "for element in c:\n",
    "    print(element)"
   ]
  },
  {
   "cell_type": "markdown",
   "metadata": {},
   "source": [
    "You can sort list  with built in method sort by the way but only with the same type"
   ]
  },
  {
   "cell_type": "code",
   "execution_count": 161,
   "metadata": {},
   "outputs": [
    {
     "name": "stdout",
     "output_type": "stream",
     "text": [
      "[-5, 0, 1, 1, 1.0, 1.25, 2, 2.718281828459045, 3.141592653589793, 4, 40000000000, 2200000000000000.2]\n",
      "['a', 's']\n",
      "[False, False, True]\n"
     ]
    }
   ],
   "source": [
    "from math import e, pi\n",
    "\n",
    "nums = [0, 1, 1.25, 4, 2, -5, 1, 1.0, e,\n",
    "        pi, 2.2 * pow(10, 15), 4 * pow(10, 10)]\n",
    "strings = [\"s\", \"a\"]\n",
    "\n",
    "strings.sort()\n",
    "nums.sort()\n",
    "\n",
    "print(nums)\n",
    "print(strings)\n",
    "\n",
    "bools = [False, True, False]\n",
    "bools.sort()\n",
    "print(bools)"
   ]
  },
  {
   "cell_type": "markdown",
   "metadata": {},
   "source": [
    "* TypeError: '<' not supported between instances of 'bool' and 'str'"
   ]
  },
  {
   "cell_type": "code",
   "execution_count": 162,
   "metadata": {},
   "outputs": [
    {
     "ename": "TypeError",
     "evalue": "'<' not supported between instances of 'bool' and 'str'",
     "output_type": "error",
     "traceback": [
      "\u001b[0;31m---------------------------------------------------------------------------\u001b[0m",
      "\u001b[0;31mTypeError\u001b[0m                                 Traceback (most recent call last)",
      "\u001b[1;32m/home/bogdandev/studying/ItCollegeDB/lab2/lab2.ipynb Cell 21\u001b[0m in \u001b[0;36m<cell line: 2>\u001b[0;34m()\u001b[0m\n\u001b[1;32m      <a href='vscode-notebook-cell:/home/bogdandev/studying/ItCollegeDB/lab2/lab2.ipynb#X35sZmlsZQ%3D%3D?line=0'>1</a>\u001b[0m freaked_up \u001b[39m=\u001b[39m [\u001b[39m\"\u001b[39m\u001b[39ms\u001b[39m\u001b[39m\"\u001b[39m, \u001b[39m\"\u001b[39m\u001b[39ma\u001b[39m\u001b[39m\"\u001b[39m, \u001b[39mFalse\u001b[39;00m]\n\u001b[0;32m----> <a href='vscode-notebook-cell:/home/bogdandev/studying/ItCollegeDB/lab2/lab2.ipynb#X35sZmlsZQ%3D%3D?line=1'>2</a>\u001b[0m freaked_up\u001b[39m.\u001b[39;49msort()\n",
      "\u001b[0;31mTypeError\u001b[0m: '<' not supported between instances of 'bool' and 'str'"
     ]
    }
   ],
   "source": [
    "freaked_up = [\"s\", \"a\", False]\n",
    "freaked_up.sort()"
   ]
  },
  {
   "cell_type": "markdown",
   "metadata": {},
   "source": [
    "### dictionaries\n",
    "\n",
    "* Dictionaries are used to store data values in key:value pairs.\n",
    "\n",
    "* A dictionary is a collection which is ordered*, changeable and do not allow duplicates.\n",
    "\n",
    "* As of Python version 3.7, dictionaries are ordered. In Python 3.6 and earlier, dictionaries are unordered.\n",
    "\n",
    "* Dictionaries are written with curly brackets, and have keys and values:"
   ]
  },
  {
   "cell_type": "code",
   "execution_count": 165,
   "metadata": {},
   "outputs": [
    {
     "name": "stdout",
     "output_type": "stream",
     "text": [
      "{'brand': 'Porsche', 'model': 'Panamera', 'year': 2009}\n",
      "Porsche\n"
     ]
    }
   ],
   "source": [
    "thisdict = {\n",
    "    \"brand\": \"Porsche\",\n",
    "    \"model\": \"Panamera\",\n",
    "    \"year\": 2009\n",
    "}\n",
    "\n",
    "print(thisdict)\n",
    "\n",
    "print(thisdict[\"brand\"]) # get the value by the key"
   ]
  },
  {
   "cell_type": "markdown",
   "metadata": {},
   "source": [
    "* KeyError \n",
    "\n",
    "    You can not get the key by the value  :lying_face:"
   ]
  },
  {
   "cell_type": "code",
   "execution_count": 166,
   "metadata": {},
   "outputs": [
    {
     "ename": "KeyError",
     "evalue": "'Porsche'",
     "output_type": "error",
     "traceback": [
      "\u001b[0;31m---------------------------------------------------------------------------\u001b[0m",
      "\u001b[0;31mKeyError\u001b[0m                                  Traceback (most recent call last)",
      "\u001b[1;32m/home/bogdandev/studying/ItCollegeDB/lab2/lab2.ipynb Cell 25\u001b[0m in \u001b[0;36m<cell line: 1>\u001b[0;34m()\u001b[0m\n\u001b[0;32m----> <a href='vscode-notebook-cell:/home/bogdandev/studying/ItCollegeDB/lab2/lab2.ipynb#X41sZmlsZQ%3D%3D?line=0'>1</a>\u001b[0m \u001b[39mprint\u001b[39m(thisdict[\u001b[39m\"\u001b[39;49m\u001b[39mPorsche\u001b[39;49m\u001b[39m\"\u001b[39;49m])\n",
      "\u001b[0;31mKeyError\u001b[0m: 'Porsche'"
     ]
    }
   ],
   "source": [
    "print(thisdict[\"Porsche\"]) \n"
   ]
  }
 ],
 "metadata": {
  "kernelspec": {
   "display_name": "Python 3.10.7 64-bit",
   "language": "python",
   "name": "python3"
  },
  "language_info": {
   "codemirror_mode": {
    "name": "ipython",
    "version": 3
   },
   "file_extension": ".py",
   "mimetype": "text/x-python",
   "name": "python",
   "nbconvert_exporter": "python",
   "pygments_lexer": "ipython3",
   "version": "3.10.7"
  },
  "orig_nbformat": 4,
  "vscode": {
   "interpreter": {
    "hash": "e7370f93d1d0cde622a1f8e1c04877d8463912d04d973331ad4851f04de6915a"
   }
  }
 },
 "nbformat": 4,
 "nbformat_minor": 2
}
