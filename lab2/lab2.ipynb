{
 "cells": [
  {
   "cell_type": "markdown",
   "metadata": {},
   "source": [
    "# Python basics  \n",
    "##### by zayats1"
   ]
  },
  {
   "cell_type": "markdown",
   "metadata": {},
   "source": [
    "## my first python program"
   ]
  },
  {
   "cell_type": "code",
   "execution_count": 47,
   "metadata": {},
   "outputs": [
    {
     "name": "stdout",
     "output_type": "stream",
     "text": [
      "nvidia, f**k you!\n"
     ]
    }
   ],
   "source": [
    "print(\"nvidia, f**k you!\")  # Linus said\n"
   ]
  },
  {
   "cell_type": "markdown",
   "metadata": {},
   "source": [
    "##"
   ]
  },
  {
   "cell_type": "markdown",
   "metadata": {},
   "source": [
    "## Variables"
   ]
  },
  {
   "cell_type": "markdown",
   "metadata": {},
   "source": [
    "Variables are containers for storing data values."
   ]
  },
  {
   "cell_type": "markdown",
   "metadata": {},
   "source": [
    "### numbers"
   ]
  },
  {
   "cell_type": "code",
   "execution_count": 48,
   "metadata": {},
   "outputs": [
    {
     "name": "stdout",
     "output_type": "stream",
     "text": [
      "numbers:\n",
      "4 81\n"
     ]
    }
   ],
   "source": [
    "print(\"numbers:\")\n",
    "num1 = 4\n",
    "num2 = 81\n",
    "print(num1, num2)\n"
   ]
  },
  {
   "cell_type": "markdown",
   "metadata": {},
   "source": [
    "#### built in functions for comparison"
   ]
  },
  {
   "cell_type": "code",
   "execution_count": 49,
   "metadata": {},
   "outputs": [
    {
     "name": "stdout",
     "output_type": "stream",
     "text": [
      "max\n",
      "81\n",
      "min\n",
      "81\n"
     ]
    }
   ],
   "source": [
    "print(\"max\")\n",
    "print(max(num1, num2))\n",
    "\n",
    "print(\"min\")\n",
    "print(min(num1, num2))\n"
   ]
  },
  {
   "cell_type": "markdown",
   "metadata": {},
   "source": [
    "#### decimal type"
   ]
  },
  {
   "cell_type": "code",
   "execution_count": 50,
   "metadata": {},
   "outputs": [
    {
     "name": "stdout",
     "output_type": "stream",
     "text": [
      "float = 8.666 rounded = 9\n"
     ]
    }
   ],
   "source": [
    "float = 8.666\n",
    "print(\"float =\", float, \"rounded =\", round(float))\n"
   ]
  },
  {
   "cell_type": "code",
   "execution_count": 51,
   "metadata": {},
   "outputs": [
    {
     "name": "stdout",
     "output_type": "stream",
     "text": [
      "indices:\n",
      "P\n",
      "5\n",
      "5\n",
      "Replace:\n",
      "Puck yew,nvidia!\n"
     ]
    }
   ],
   "source": [
    "phrase = \"Puck yew,leatherman!\"\n",
    "\n",
    "print(\"indices:\")\n",
    "print(phrase[0])\n",
    "print(phrase.index(\"y\"))\n",
    "print(phrase.index(\"yew\"))\n",
    "\n",
    "print(\"Replace:\")\n",
    "print(phrase.replace(\"leatherman\", \"nvidia\"))\n"
   ]
  },
  {
   "cell_type": "markdown",
   "metadata": {},
   "source": [
    "### tuples\n",
    "* Tuples are used to store multiple items in a single variable.\n",
    "\n",
    "* Tuple is one of 4 built-in data types in Python used to store collections of data, the other 3 are List, Set, and Dictionary, all with different qualities and usage.\n",
    "\n",
    "* A tuple is a collection which is ordered and unchangeable.\n",
    "\n",
    "* Tuples are written with round brackets.\n",
    "\n"
   ]
  },
  {
   "cell_type": "code",
   "execution_count": 52,
   "metadata": {},
   "outputs": [
    {
     "name": "stdout",
     "output_type": "stream",
     "text": [
      "(14, 41)\n",
      "14\n",
      "[(14, 41), (4, 5), (-8, 8), ('s', 4)]\n"
     ]
    }
   ],
   "source": [
    "coordinates = (14, 41)\n",
    "print(coordinates)\n",
    "print(coordinates[0])\n",
    "\n",
    "coordinates = [(14, 41), (4, 5), (-8, 8), (\"s\", 4)]\n",
    "print(coordinates)\n"
   ]
  },
  {
   "cell_type": "markdown",
   "metadata": {},
   "source": [
    "### lists\n",
    "\n",
    "* Lists are used to store multiple items in a single variable.\n",
    "\n",
    "* Lists are one of 4 built-in data types in Python used to store collections of data, the other 3 are Tuple, Set, and Dictionary, all with different qualities and usage.\n",
    "\n",
    "* Lists are created using square brackets:"
   ]
  },
  {
   "cell_type": "code",
   "execution_count": 53,
   "metadata": {},
   "outputs": [
    {
     "name": "stdout",
     "output_type": "stream",
     "text": [
      "a\n",
      "1\n",
      "1.25\n",
      "Слово\n",
      " не \n",
      "sparrow\n",
      "True\n"
     ]
    }
   ],
   "source": [
    "c = [\"a\", 1, 1.25, \"Слово\", \" не \", \"sparrow\", True]\n",
    "\n",
    "for element in c:\n",
    "    print(element)\n"
   ]
  },
  {
   "cell_type": "markdown",
   "metadata": {},
   "source": [
    "You can sort list  with built in method sort by the way but only with the same type"
   ]
  },
  {
   "cell_type": "code",
   "execution_count": 54,
   "metadata": {},
   "outputs": [
    {
     "name": "stdout",
     "output_type": "stream",
     "text": [
      "[-5, 0, 1, 1, 1.0, 1.25, 2, 2.718281828459045, 3.141592653589793, 4, 40000000000, 2200000000000000.2]\n",
      "['a', 's']\n",
      "[False, False, True]\n"
     ]
    }
   ],
   "source": [
    "from math import e, pi\n",
    "\n",
    "nums = [0, 1, 1.25, 4, 2, -5, 1, 1.0, e,\n",
    "        pi, 2.2 * pow(10, 15), 4 * pow(10, 10)]\n",
    "strings = [\"s\", \"a\"]\n",
    "\n",
    "strings.sort()\n",
    "nums.sort()\n",
    "\n",
    "print(nums)\n",
    "print(strings)\n",
    "\n",
    "bools = [False, True, False]\n",
    "bools.sort()\n",
    "print(bools)\n"
   ]
  },
  {
   "cell_type": "markdown",
   "metadata": {},
   "source": [
    "* TypeError: '<' not supported between instances of 'bool' and 'str'"
   ]
  },
  {
   "cell_type": "code",
   "execution_count": 55,
   "metadata": {},
   "outputs": [
    {
     "ename": "TypeError",
     "evalue": "'<' not supported between instances of 'bool' and 'str'",
     "output_type": "error",
     "traceback": [
      "\u001b[0;31m---------------------------------------------------------------------------\u001b[0m",
      "\u001b[0;31mTypeError\u001b[0m                                 Traceback (most recent call last)",
      "\u001b[1;32m/home/bogdandev/studying/ItCollegeDB/lab2/lab2.ipynb Cell 21\u001b[0m in \u001b[0;36m<cell line: 2>\u001b[0;34m()\u001b[0m\n\u001b[1;32m      <a href='vscode-notebook-cell:/home/bogdandev/studying/ItCollegeDB/lab2/lab2.ipynb#X26sZmlsZQ%3D%3D?line=0'>1</a>\u001b[0m freaked_up \u001b[39m=\u001b[39m [\u001b[39m\"\u001b[39m\u001b[39ms\u001b[39m\u001b[39m\"\u001b[39m, \u001b[39m\"\u001b[39m\u001b[39ma\u001b[39m\u001b[39m\"\u001b[39m, \u001b[39mFalse\u001b[39;00m]\n\u001b[0;32m----> <a href='vscode-notebook-cell:/home/bogdandev/studying/ItCollegeDB/lab2/lab2.ipynb#X26sZmlsZQ%3D%3D?line=1'>2</a>\u001b[0m freaked_up\u001b[39m.\u001b[39;49msort()\n",
      "\u001b[0;31mTypeError\u001b[0m: '<' not supported between instances of 'bool' and 'str'"
     ]
    }
   ],
   "source": [
    "freaked_up = [\"s\", \"a\", False]\n",
    "freaked_up.sort()\n"
   ]
  },
  {
   "cell_type": "markdown",
   "metadata": {},
   "source": [
    "### dictionaries\n",
    "\n",
    "* Dictionaries are used to store data values in key:value pairs.\n",
    "\n",
    "* A dictionary is a collection which is ordered*, changeable and do not allow duplicates.\n",
    "\n",
    "* As of Python version 3.7, dictionaries are ordered. In Python 3.6 and earlier, dictionaries are unordered.\n",
    "\n",
    "* Dictionaries are written with curly brackets, and have keys and values:"
   ]
  },
  {
   "cell_type": "code",
   "execution_count": null,
   "metadata": {},
   "outputs": [
    {
     "name": "stdout",
     "output_type": "stream",
     "text": [
      "{'brand': 'Porsche', 'model': 'Panamera', 'year': 2009}\n",
      "Porsche\n"
     ]
    }
   ],
   "source": [
    "thisdict = {\n",
    "    \"brand\": \"Porsche\",\n",
    "    \"model\": \"Panamera\",\n",
    "    \"year\": 2009\n",
    "}\n",
    "\n",
    "print(thisdict)\n",
    "\n",
    "print(thisdict[\"brand\"])  # get the value by the key\n"
   ]
  },
  {
   "cell_type": "markdown",
   "metadata": {},
   "source": [
    "* KeyError \n",
    "\n",
    "    You can not get the key by the value  :lying_face:"
   ]
  },
  {
   "cell_type": "code",
   "execution_count": null,
   "metadata": {},
   "outputs": [
    {
     "ename": "KeyError",
     "evalue": "'Porsche'",
     "output_type": "error",
     "traceback": [
      "\u001b[0;31m---------------------------------------------------------------------------\u001b[0m",
      "\u001b[0;31mKeyError\u001b[0m                                  Traceback (most recent call last)",
      "\u001b[1;32m/home/bogdandev/studying/ItCollegeDB/lab2/lab2.ipynb Cell 25\u001b[0m in \u001b[0;36m<cell line: 1>\u001b[0;34m()\u001b[0m\n\u001b[0;32m----> <a href='vscode-notebook-cell:/home/bogdandev/studying/ItCollegeDB/lab2/lab2.ipynb#X41sZmlsZQ%3D%3D?line=0'>1</a>\u001b[0m \u001b[39mprint\u001b[39m(thisdict[\u001b[39m\"\u001b[39;49m\u001b[39mPorsche\u001b[39;49m\u001b[39m\"\u001b[39;49m])\n",
      "\u001b[0;31mKeyError\u001b[0m: 'Porsche'"
     ]
    }
   ],
   "source": [
    "print(thisdict[\"Porsche\"])\n"
   ]
  },
  {
   "cell_type": "markdown",
   "metadata": {},
   "source": [
    "\n",
    "## sets\n",
    "\n",
    "* Sets are used to store multiple items in a single variable.\n",
    "\n",
    "* Set is one of 4 built-in data types in Python used to store collections of data, the other 3 are List, Tuple, and Dictionary, all with different qualities and usage.\n",
    "\n",
    "* A set is a collection which is unordered, unchangeable*, and unindexed.\n",
    "\n",
    "* > Note: Set items are unchangeable, but you can remove items and add new items.\n",
    "\n",
    "* Sets are written with curly brackets.\n",
    "\n",
    "* Once a set is created, you cannot change its items, but you can add new items."
   ]
  },
  {
   "cell_type": "code",
   "execution_count": null,
   "metadata": {},
   "outputs": [
    {
     "name": "stdout",
     "output_type": "stream",
     "text": [
      "{'banana', 'apple', 'cherry'}\n"
     ]
    }
   ],
   "source": [
    "thisset = {\"apple\", \"banana\", \"cherry\"}\n",
    "print(thisset)\n"
   ]
  },
  {
   "cell_type": "markdown",
   "metadata": {},
   "source": [
    "#### Access Items\n",
    "\n",
    "> **You cannot access items in a set by referring to an index or a key.**\n",
    "\n",
    "But you can loop through the set items using a for loop, or ask if a specified value is present in a set, by using the in keyword."
   ]
  },
  {
   "cell_type": "code",
   "execution_count": null,
   "metadata": {},
   "outputs": [],
   "source": [
    "\n",
    "for x in thisset:\n",
    "    print(x)\n"
   ]
  },
  {
   "cell_type": "markdown",
   "metadata": {},
   "source": [
    "#### Add and remove items from sets\n",
    "\n",
    "> **Note: If the item to remove does not exist, remove() will raise an error.**"
   ]
  },
  {
   "cell_type": "code",
   "execution_count": null,
   "metadata": {},
   "outputs": [],
   "source": [
    "thisset = {\"apple\", \"banana\", \"cherry\"}\n",
    "\n",
    "thisset.add(\"orange\")\n",
    "\n",
    "thisset.remove(\"banana\")\n",
    "print(thisset)\n"
   ]
  },
  {
   "cell_type": "markdown",
   "metadata": {},
   "source": [
    "#### Join Two Sets"
   ]
  },
  {
   "cell_type": "code",
   "execution_count": null,
   "metadata": {},
   "outputs": [
    {
     "name": "stdout",
     "output_type": "stream",
     "text": [
      "{0, 1, 2, 'a', 'b', 'c'}\n",
      "{3, 4, 5, 'e', 'f', 'g'}\n"
     ]
    }
   ],
   "source": [
    "set1 = {\"a\", \"b\", \"c\"}\n",
    "set2 = {0, 1, 2}\n",
    "\n",
    "set3 = set1.union(set2)\n",
    "print(set3)\n",
    "\n",
    "set1 = {\"e\", \"f\", \"g\"}\n",
    "set2 = {3, 4, 5}\n",
    "\n",
    "set1.update(set2)\n",
    "print(set1)\n"
   ]
  },
  {
   "cell_type": "markdown",
   "metadata": {},
   "source": [
    "#### intersection\n",
    "The intersection() method will return a new set, that only contains the items that are present in both sets."
   ]
  },
  {
   "cell_type": "code",
   "execution_count": null,
   "metadata": {},
   "outputs": [
    {
     "name": "stdout",
     "output_type": "stream",
     "text": [
      "{'apple'}\n"
     ]
    }
   ],
   "source": [
    "x = {\"apple\", \"banana\", \"cherry\"}\n",
    "y = {\"google\", \"microsoft\", \"apple\"}\n",
    "\n",
    "x.intersection_update(y)\n",
    "\n",
    "print(x)\n"
   ]
  },
  {
   "cell_type": "markdown",
   "metadata": {},
   "source": [
    "## Functions"
   ]
  },
  {
   "cell_type": "markdown",
   "metadata": {},
   "source": [
    "function takes paramethers returns value  \n",
    "some functions may not take params"
   ]
  },
  {
   "cell_type": "code",
   "execution_count": null,
   "metadata": {},
   "outputs": [],
   "source": [
    "def square(num):\n",
    "    return num*num\n",
    "\n",
    "\n",
    "print(square(square(square(2))))  # 2^8\n"
   ]
  },
  {
   "cell_type": "markdown",
   "metadata": {},
   "source": [
    "but procedures don't return anything  \n",
    "they have side effects (printing, for example)"
   ]
  },
  {
   "cell_type": "code",
   "execution_count": null,
   "metadata": {},
   "outputs": [],
   "source": [
    "def say_f_you():\n",
    "    print(\"Nvidia, fuck you\")\n",
    "\n",
    "\n",
    "say_f_you()\n",
    "\n",
    "\n",
    "def say_f_you(name):\n",
    "    print(name + \", fuck you\")\n",
    "\n",
    "\n",
    "say_f_you(\"Bill\")\n"
   ]
  },
  {
   "cell_type": "markdown",
   "metadata": {},
   "source": [
    "## Control flow"
   ]
  },
  {
   "cell_type": "markdown",
   "metadata": {},
   "source": [
    "### if\n",
    "\n",
    "#### Python supports the usual logical conditions from mathematics:\n",
    "\n",
    "- Equals: a == b\n",
    "- Not Equals: a != b\n",
    "- Less than: a < b\n",
    "- Less than or equal to: a <= b\n",
    "- Greater than: a > b\n",
    "- Greater than or equal to: a >= b"
   ]
  },
  {
   "cell_type": "code",
   "execution_count": null,
   "metadata": {},
   "outputs": [
    {
     "name": "stdout",
     "output_type": "stream",
     "text": [
      "She will be grandpa\n"
     ]
    }
   ],
   "source": [
    "grandma_has_duck = True\n",
    "\n",
    "if grandma_has_duck:\n",
    "    print(\"She will be grandpa\")\n"
   ]
  },
  {
   "cell_type": "markdown",
   "metadata": {},
   "source": [
    "### if else"
   ]
  },
  {
   "cell_type": "code",
   "execution_count": null,
   "metadata": {},
   "outputs": [
    {
     "name": "stdout",
     "output_type": "stream",
     "text": [
      "78\n"
     ]
    }
   ],
   "source": [
    "def min(num1, num2):\n",
    "    if num1 > num2:\n",
    "        return num1\n",
    "    elif num1 < num2:\n",
    "        return num2\n",
    "    else:\n",
    "        return num2\n",
    "\n",
    "\n",
    "num1 = 78\n",
    "num2 = 78\n",
    "\n",
    "print(min(num1, num2))\n"
   ]
  },
  {
   "cell_type": "markdown",
   "metadata": {},
   "source": [
    "### while"
   ]
  },
  {
   "cell_type": "code",
   "execution_count": null,
   "metadata": {},
   "outputs": [
    {
     "name": "stdout",
     "output_type": "stream",
     "text": [
      "1\n",
      "2\n",
      "3\n",
      "4\n",
      "5\n"
     ]
    }
   ],
   "source": [
    "i = 1\n",
    "while i < 6:\n",
    "    print(i)\n",
    "    i += 1\n"
   ]
  },
  {
   "cell_type": "markdown",
   "metadata": {},
   "source": [
    "#### break"
   ]
  },
  {
   "cell_type": "code",
   "execution_count": null,
   "metadata": {},
   "outputs": [
    {
     "name": "stdout",
     "output_type": "stream",
     "text": [
      "1\n",
      "2\n",
      "3\n"
     ]
    }
   ],
   "source": [
    "i = 1\n",
    "while i < 8:\n",
    "    print(i)\n",
    "    if i == 3:\n",
    "        break\n",
    "    i += 1\n"
   ]
  },
  {
   "cell_type": "markdown",
   "metadata": {},
   "source": [
    "#### continue"
   ]
  },
  {
   "cell_type": "code",
   "execution_count": null,
   "metadata": {},
   "outputs": [
    {
     "name": "stdout",
     "output_type": "stream",
     "text": [
      "2\n",
      "4\n",
      "5\n",
      "6\n",
      "7\n",
      "8\n"
     ]
    }
   ],
   "source": [
    "i = 1\n",
    "while i < 8:\n",
    "    i += 1\n",
    "    if i == 3:\n",
    "        continue\n",
    "    print(i)\n"
   ]
  },
  {
   "cell_type": "markdown",
   "metadata": {},
   "source": [
    "### for\n",
    "\n",
    "* A for loop is used for iterating over a sequence (that is either a list, a tuple, a dictionary, a set, or a string).\n",
    "\n",
    "* This is less like the for keyword in other programming languages, and works more like an iterator method as found in other object-orientated programming languages.\n",
    "\n",
    "* With the for loop we can execute a set of statements, once for each item in a list, tuple, set etc."
   ]
  },
  {
   "cell_type": "code",
   "execution_count": 2,
   "metadata": {},
   "outputs": [
    {
     "name": "stdout",
     "output_type": "stream",
     "text": [
      "apple\n",
      "banana\n",
      "cherry\n"
     ]
    }
   ],
   "source": [
    "fruits = [\"apple\", \"banana\", \"cherry\"]\n",
    "for x in fruits:\n",
    "  print(x)"
   ]
  },
  {
   "cell_type": "code",
   "execution_count": 3,
   "metadata": {},
   "outputs": [
    {
     "name": "stdout",
     "output_type": "stream",
     "text": [
      "0\n",
      "1\n",
      "2\n",
      "3\n",
      "4\n",
      "5\n"
     ]
    }
   ],
   "source": [
    "for x in range(6):\n",
    "    print(x)\n"
   ]
  },
  {
   "cell_type": "code",
   "execution_count": 4,
   "metadata": {},
   "outputs": [
    {
     "name": "stdout",
     "output_type": "stream",
     "text": [
      "2\n",
      "-1\n",
      "-4\n",
      "-7\n",
      "-10\n",
      "-13\n",
      "-16\n",
      "-19\n",
      "-22\n",
      "-25\n",
      "-28\n",
      "-2\n",
      "1\n",
      "4\n",
      "7\n",
      "10\n",
      "13\n",
      "16\n",
      "19\n",
      "22\n",
      "25\n",
      "28\n"
     ]
    }
   ],
   "source": [
    "for x in range(2, -30, -3):\n",
    "    print(x)\n",
    "\n",
    "for x in range(-2, 30, 3):\n",
    "    print(x)\n"
   ]
  },
  {
   "cell_type": "markdown",
   "metadata": {},
   "source": [
    "#### else"
   ]
  },
  {
   "cell_type": "code",
   "execution_count": 5,
   "metadata": {},
   "outputs": [
    {
     "name": "stdout",
     "output_type": "stream",
     "text": [
      "0\n",
      "1\n",
      "2\n",
      "3\n",
      "4\n",
      "5\n",
      "Finally finished!\n"
     ]
    }
   ],
   "source": [
    "for x in range(6):\n",
    "    print(x)\n",
    "else:\n",
    "    print(\"Finally finished!\")\n"
   ]
  },
  {
   "cell_type": "markdown",
   "metadata": {},
   "source": [
    "### match"
   ]
  },
  {
   "cell_type": "code",
   "execution_count": 6,
   "metadata": {},
   "outputs": [
    {
     "name": "stdout",
     "output_type": "stream",
     "text": [
      "five\n"
     ]
    }
   ],
   "source": [
    "num2 = 5\n",
    "\n",
    "match num2:\n",
    "    case 1:\n",
    "        print(\"one\")\n",
    "    case 5:\n",
    "        print(\"five\")\n"
   ]
  },
  {
   "cell_type": "markdown",
   "metadata": {},
   "source": [
    "### try"
   ]
  },
  {
   "cell_type": "code",
   "execution_count": 7,
   "metadata": {},
   "outputs": [
    {
     "name": "stdout",
     "output_type": "stream",
     "text": [
      "Variable xyz is not defined\n"
     ]
    }
   ],
   "source": [
    "# xyz = [0, 1, 3]  # coment or uncoment this and watch.\n",
    "# For unknown reasons I ought to  restart the notebook to see results of the code\n",
    "try:\n",
    "    print(xyz)\n",
    "except NameError:\n",
    "    print(\"Variable xyz is not defined\")\n",
    "except:\n",
    "    print(\"Something else went wrong\")\n",
    "else:\n",
    "    print(\"Nothing went wrong\")\n"
   ]
  },
  {
   "cell_type": "markdown",
   "metadata": {},
   "source": [
    "## lambdas\n",
    "* A lambda function is a small anonymous function.\n",
    "\n",
    "* A lambda function can take any number of arguments, but can only have one expression."
   ]
  },
  {
   "cell_type": "code",
   "execution_count": 8,
   "metadata": {},
   "outputs": [
    {
     "name": "stdout",
     "output_type": "stream",
     "text": [
      "15\n",
      "15\n"
     ]
    }
   ],
   "source": [
    "def x(a): return a + 10\n",
    "\n",
    "print(x(5))\n",
    "\n",
    "x = lambda a : a + 10\n",
    "print(x(5))\n"
   ]
  }
 ],
 "metadata": {
  "kernelspec": {
   "display_name": "Python 3.10.7 64-bit",
   "language": "python",
   "name": "python3"
  },
  "language_info": {
   "codemirror_mode": {
    "name": "ipython",
    "version": 3
   },
   "file_extension": ".py",
   "mimetype": "text/x-python",
   "name": "python",
   "nbconvert_exporter": "python",
   "pygments_lexer": "ipython3",
   "version": "3.10.7"
  },
  "orig_nbformat": 4,
  "vscode": {
   "interpreter": {
    "hash": "e7370f93d1d0cde622a1f8e1c04877d8463912d04d973331ad4851f04de6915a"
   }
  }
 },
 "nbformat": 4,
 "nbformat_minor": 2
}
