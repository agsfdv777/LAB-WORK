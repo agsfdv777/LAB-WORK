{
 "cells": [
  {
   "cell_type": "markdown",
   "metadata": {},
   "source": [
    "# Classes \n",
    "> \"Oh no!, I drop my glasses\" "
   ]
  },
  {
   "cell_type": "markdown",
   "metadata": {},
   "source": [
    "## Syntax\n",
    "> Just tell me, which noun came to your mind? : :sweat_smile: :stuck_out_tongue_winking_eye: \n",
    "\n"
   ]
  },
  {
   "cell_type": "code",
   "execution_count": 55,
   "metadata": {},
   "outputs": [],
   "source": [
    "class ClassName:\n",
    "    # Statement\n",
    "    attr = 4\n"
   ]
  },
  {
   "cell_type": "markdown",
   "metadata": {},
   "source": [
    "## Object definition\n"
   ]
  },
  {
   "cell_type": "code",
   "execution_count": 56,
   "metadata": {},
   "outputs": [
    {
     "name": "stdout",
     "output_type": "stream",
     "text": [
      "4\n"
     ]
    }
   ],
   "source": [
    "obj = ClassName()\n",
    "print(obj.attr)\n"
   ]
  },
  {
   "cell_type": "markdown",
   "metadata": {},
   "source": [
    "##  constructor and \"to string\" functions\n",
    "```python \n",
    "__init__ and __str__ functions"
   ]
  },
  {
   "cell_type": "markdown",
   "metadata": {},
   "source": [
    "* All classes have a function called __init__(), which is always executed when the class is being initiated.\n",
    "\n",
    "* Use the __init__() function to assign values to object properties, or other operations that are necessary to do when the object is being created:\n",
    "\n",
    "* The __str__() function controls what should be returned when the class object is represented as a string.\n",
    "\n",
    "* If the __str__() function is not set, the string representation of the object is returned:\n"
   ]
  },
  {
   "cell_type": "code",
   "execution_count": 57,
   "metadata": {},
   "outputs": [
    {
     "name": "stdout",
     "output_type": "stream",
     "text": [
      "Yoda, 900 years old\n"
     ]
    }
   ],
   "source": [
    "class Person:\n",
    "    def __init__(self, name, age):\n",
    "        self.name = name\n",
    "        self.age = age\n",
    "\n",
    "    def __str__(self):\n",
    "        return f\"{self.name}, {self.age} years old\"\n",
    "\n",
    "\n",
    "p1 = Person(\"Yoda\", 900)  # Cheese from my local shop is older\n",
    "\n",
    "print(p1)\n"
   ]
  },
  {
   "cell_type": "markdown",
   "metadata": {},
   "source": [
    "> *Note: The __init__() function is called automatically every time the class is being used to create a new object.*  \n",
    "\n",
    "\n",
    "> Note: The self parameter is a reference to the current instance of the class, and is used to access variables that belong to the class."
   ]
  },
  {
   "cell_type": "markdown",
   "metadata": {},
   "source": [
    "## Object methods\n",
    "\n",
    "Objects can also contain methods. Methods in objects are functions that belong to the object.\n",
    "\n",
    "Let us create a method in the Goose class:"
   ]
  },
  {
   "cell_type": "code",
   "execution_count": 58,
   "metadata": {},
   "outputs": [
    {
     "name": "stdout",
     "output_type": "stream",
     "text": [
      "Pincher, 5 years old , honks:\n",
      "Aaagaaahh agaah!!! gawh gawh gha gha!\n",
      "Gha gho ghew gha\n"
     ]
    }
   ],
   "source": [
    "class Goose:\n",
    "    def __init__(self, name, age):\n",
    "        self.name = name\n",
    "        self.age = age\n",
    "\n",
    "    def __str__(self):\n",
    "        return f\"{self.name}, {self.age} years old\"\n",
    "\n",
    "    def honk(self):\n",
    "        print(\"Aaagaaahh agaah!!! gawh gawh gha gha!\")  # Male goose honk\n",
    "\n",
    "    def speak(self):\n",
    "        print(\"Gha gho ghew gha\")  # Male goose speak\n",
    "\n",
    "\n",
    "my_goose = Goose(\"Pincher\", 5)\n",
    "print(f\"{my_goose} , honks:\")\n",
    "my_goose.honk()\n",
    "my_goose.speak()\n"
   ]
  },
  {
   "cell_type": "markdown",
   "metadata": {},
   "source": [
    "## Modify Object Properties"
   ]
  },
  {
   "cell_type": "code",
   "execution_count": 59,
   "metadata": {},
   "outputs": [
    {
     "name": "stdout",
     "output_type": "stream",
     "text": [
      "Yoda, 950 years old\n"
     ]
    }
   ],
   "source": [
    "p1.age = 950\n",
    "print(p1)\n"
   ]
  },
  {
   "cell_type": "markdown",
   "metadata": {},
   "source": [
    "## Inheritance"
   ]
  },
  {
   "cell_type": "code",
   "execution_count": 60,
   "metadata": {},
   "outputs": [
    {
     "name": "stdout",
     "output_type": "stream",
     "text": [
      "I am a king and I have a big shiny gold crown\n",
      "I am a king and I have a small gold crown\n"
     ]
    }
   ],
   "source": [
    "class King:\n",
    "    crown = \"big shiny gold crown\"\n",
    "\n",
    "    def print_crown(self):\n",
    "        print(\"I am a king and I have a\", self.crown)\n",
    " \n",
    "class RatKing(King):\n",
    "    crown = \"small gold crown\"  # you can modify properties or override methods\n",
    "\n",
    "theKing = King()\n",
    "theRat = RatKing()\n",
    "\n",
    "theKing.print_crown()\n",
    "theRat.print_crown()\n",
    "\n"
   ]
  },
  {
   "cell_type": "markdown",
   "metadata": {},
   "source": [
    "## Decorators"
   ]
  },
  {
   "cell_type": "markdown",
   "metadata": {},
   "source": [
    "### property"
   ]
  },
  {
   "cell_type": "code",
   "execution_count": 61,
   "metadata": {},
   "outputs": [
    {
     "name": "stdout",
     "output_type": "stream",
     "text": [
      "The Pig called Duff is 1 years old now\n",
      "The Pig called Duff is 2 years old now\n"
     ]
    }
   ],
   "source": [
    "from datetime import datetime\n",
    "class MyAnimals:\n",
    "    def __init__(self, animal_type, name, age) -> None:\n",
    "        self.type = animal_type\n",
    "        self.name = name\n",
    "        self.age = age\n",
    "    \n",
    "    @property\n",
    "    def get_my_pet_bithrday(self):\n",
    "        return f\"The {self.type} called {self.name} is {self.age} years old now\" \n",
    "    \n",
    "    def add_one_year(self):\n",
    "        self.age += 1\n",
    "        \n",
    "pig = MyAnimals(\"Pig\",\"Duff\",1)\n",
    "\n",
    "print(pig.get_my_pet_bithrday)\n",
    "\n",
    "pig.add_one_year()\n",
    "\n",
    "print(pig.get_my_pet_bithrday)\n",
    "\n"
   ]
  },
  {
   "cell_type": "markdown",
   "metadata": {},
   "source": [
    "### dataclass"
   ]
  },
  {
   "cell_type": "code",
   "execution_count": null,
   "metadata": {},
   "outputs": [],
   "source": [
    "from dataclasses import dataclass\n",
    "\n",
    "@dataclass\n",
    "class PlayingCard:\n",
    "    rank: str\n",
    "    suit: str"
   ]
  },
  {
   "cell_type": "markdown",
   "metadata": {},
   "source": [
    "## You can delete object properties and objects themself\n",
    " > cells bellow an error code may not executing if you run all cels, or starting from higher cell "
   ]
  },
  {
   "cell_type": "code",
   "execution_count": 62,
   "metadata": {},
   "outputs": [
    {
     "ename": "AttributeError",
     "evalue": "'Person' object has no attribute 'age'",
     "output_type": "error",
     "traceback": [
      "\u001b[0;31m---------------------------------------------------------------------------\u001b[0m",
      "\u001b[0;31mAttributeError\u001b[0m                            Traceback (most recent call last)",
      "\u001b[1;32m/home/bogdandev/studying/ItCollegeDB/lab3/oop_learning.ipynb Cell 19\u001b[0m in \u001b[0;36m<cell line: 2>\u001b[0;34m()\u001b[0m\n\u001b[1;32m      <a href='vscode-notebook-cell:/home/bogdandev/studying/ItCollegeDB/lab3/oop_learning.ipynb#X16sZmlsZQ%3D%3D?line=0'>1</a>\u001b[0m \u001b[39mdel\u001b[39;00m p1\u001b[39m.\u001b[39mage\n\u001b[0;32m----> <a href='vscode-notebook-cell:/home/bogdandev/studying/ItCollegeDB/lab3/oop_learning.ipynb#X16sZmlsZQ%3D%3D?line=1'>2</a>\u001b[0m \u001b[39mprint\u001b[39;49m(p1)\n",
      "\u001b[1;32m/home/bogdandev/studying/ItCollegeDB/lab3/oop_learning.ipynb Cell 19\u001b[0m in \u001b[0;36mPerson.__str__\u001b[0;34m(self)\u001b[0m\n\u001b[1;32m      <a href='vscode-notebook-cell:/home/bogdandev/studying/ItCollegeDB/lab3/oop_learning.ipynb#X16sZmlsZQ%3D%3D?line=5'>6</a>\u001b[0m \u001b[39mdef\u001b[39;00m \u001b[39m__str__\u001b[39m(\u001b[39mself\u001b[39m):\n\u001b[0;32m----> <a href='vscode-notebook-cell:/home/bogdandev/studying/ItCollegeDB/lab3/oop_learning.ipynb#X16sZmlsZQ%3D%3D?line=6'>7</a>\u001b[0m     \u001b[39mreturn\u001b[39;00m \u001b[39mf\u001b[39m\u001b[39m\"\u001b[39m\u001b[39m{\u001b[39;00m\u001b[39mself\u001b[39m\u001b[39m.\u001b[39mname\u001b[39m}\u001b[39;00m\u001b[39m, \u001b[39m\u001b[39m{\u001b[39;00m\u001b[39mself\u001b[39m\u001b[39m.\u001b[39mage\u001b[39m}\u001b[39;00m\u001b[39m years old\u001b[39m\u001b[39m\"\u001b[39m\n",
      "\u001b[0;31mAttributeError\u001b[0m: 'Person' object has no attribute 'age'"
     ]
    }
   ],
   "source": [
    "del p1.age\n",
    "print(p1)\n"
   ]
  },
  {
   "cell_type": "code",
   "execution_count": 63,
   "metadata": {},
   "outputs": [
    {
     "ename": "NameError",
     "evalue": "name 'p1' is not defined",
     "output_type": "error",
     "traceback": [
      "\u001b[0;31m---------------------------------------------------------------------------\u001b[0m",
      "\u001b[0;31mNameError\u001b[0m                                 Traceback (most recent call last)",
      "\u001b[1;32m/home/bogdandev/studying/ItCollegeDB/lab3/oop_learning.ipynb Cell 23\u001b[0m in \u001b[0;36m<cell line: 2>\u001b[0;34m()\u001b[0m\n\u001b[1;32m      <a href='vscode-notebook-cell:/home/bogdandev/studying/ItCollegeDB/lab3/oop_learning.ipynb#X20sZmlsZQ%3D%3D?line=0'>1</a>\u001b[0m \u001b[39mdel\u001b[39;00m p1\n\u001b[0;32m----> <a href='vscode-notebook-cell:/home/bogdandev/studying/ItCollegeDB/lab3/oop_learning.ipynb#X20sZmlsZQ%3D%3D?line=1'>2</a>\u001b[0m \u001b[39mprint\u001b[39m(p1)\n",
      "\u001b[0;31mNameError\u001b[0m: name 'p1' is not defined"
     ]
    }
   ],
   "source": [
    "del p1\n",
    "print(p1)\n"
   ]
  }
 ],
 "metadata": {
  "kernelspec": {
   "display_name": "Python 3.10.7 64-bit",
   "language": "python",
   "name": "python3"
  },
  "language_info": {
   "codemirror_mode": {
    "name": "ipython",
    "version": 3
   },
   "file_extension": ".py",
   "mimetype": "text/x-python",
   "name": "python",
   "nbconvert_exporter": "python",
   "pygments_lexer": "ipython3",
   "version": "3.10.7"
  },
  "orig_nbformat": 4,
  "vscode": {
   "interpreter": {
    "hash": "e7370f93d1d0cde622a1f8e1c04877d8463912d04d973331ad4851f04de6915a"
   }
  }
 },
 "nbformat": 4,
 "nbformat_minor": 2
}
