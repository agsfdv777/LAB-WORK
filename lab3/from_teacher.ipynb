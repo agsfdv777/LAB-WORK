{
 "cells": [
  {
   "cell_type": "markdown",
   "metadata": {},
   "source": [
    "### Поняття класу та обєкту"
   ]
  },
  {
   "cell_type": "code",
   "execution_count": 8,
   "metadata": {},
   "outputs": [
    {
     "name": "stdout",
     "output_type": "stream",
     "text": [
      "Це є обєкт <__main__.MyAnimals object at 0x7f3be0312620> мого класу <class '__main__.MyAnimals'>\n",
      "Динамічно додав імя до обєкту Шарік\n",
      "Стрічка\n"
     ]
    }
   ],
   "source": [
    "class MyAnimals:\n",
    "    pass\n",
    "\n",
    "a = MyAnimals()\n",
    "print(f\"Це є обєкт {a} мого класу {MyAnimals}\")\n",
    "a.name = \"Шарік\"\n",
    "b = MyAnimals()\n",
    "print(f\"Динамічно додав імя до обєкту {a.name}\")\n",
    "#print(f\"Але в класі його немає тому {d.name}\")\n",
    "\n",
    "ss = \"Стрічка\"\n",
    "print(ss.title())"
   ]
  },
  {
   "cell_type": "markdown",
   "metadata": {},
   "source": [
    "### Різниця між даними та обєктами"
   ]
  },
  {
   "cell_type": "code",
   "execution_count": 9,
   "metadata": {},
   "outputs": [
    {
     "name": "stdout",
     "output_type": "stream",
     "text": [
      "Я маю Собака яку звати Рекс яка живе зі мною 2 років, і має вагу 12 кг\n",
      "Я маю Кіт яку звати Мурзік яка живе зі мною 6 років, і має вагу 4 кг\n",
      "Я маю Рибки яку звати Неони яка живе зі мною 1 років, і має вагу 0.1 кг\n",
      "Починаємо ООП\n",
      "Я маю Собака яку звати Рекс яка живе зі мною ?? років\n",
      "Я маю Собака яку звати Рекс яка живе зі мною 2 років\n",
      "Я переназвав мого Собака тепер її звати Шарік яка живе зі мною 4 років\n",
      "Я маю Кіт яку звати Мурзік яка живе зі мною 6 років\n"
     ]
    }
   ],
   "source": [
    "animal_type = [\"Собака\", \"Кіт\", \"Рибки\"]\n",
    "animal_name = [\"Рекс\", \"Мурзік\", \"Неони\"]\n",
    "animal_age = [2, 6, 1]\n",
    "animal_weight = [12, 4, 0.1]\n",
    "\n",
    "for item in range(3):\n",
    "    print(f\"Я маю {animal_type[item]} яку звати {animal_name[item]} яка живе зі мною {animal_age[item]} років, і має вагу {animal_weight[item]} кг\")\n",
    "\n",
    "\n",
    "class MyAnimals:\n",
    "    def __init__(self, animal_type, name, age = None) -> None:\n",
    "        \"\"\"\n",
    "        animal_type: Тут треба вказати вид Тварини;\n",
    "        name: Імя моєї Тваринки;\n",
    "        \"\"\"\n",
    "        self.type = animal_type\n",
    "        self.name = name\n",
    "        self.age = \"??\" if age == None else age\n",
    "\n",
    "print(\"Починаємо ООП\")\n",
    "\n",
    "a1 = MyAnimals(\"Собака\", \"Рекс\")\n",
    "\n",
    "print(f\"Я маю {a1.type} яку звати {a1.name} яка живе зі мною {a1.age} років\")\n",
    "a1.age = 2\n",
    "print(f\"Я маю {a1.type} яку звати {a1.name} яка живе зі мною {a1.age} років\")\n",
    "a1.age = 4\n",
    "a1.name = \"Шарік\"\n",
    "print(f\"Я переназвав мого {a1.type} тепер її звати {a1.name} яка живе зі мною {a1.age} років\")\n",
    "\n",
    "a2 = MyAnimals(\"Кіт\", \"Мурзік\", 6)\n",
    "\n",
    "print(f\"Я маю {a2.type} яку звати {a2.name} яка живе зі мною {a2.age} років\")\n"
   ]
  },
  {
   "cell_type": "markdown",
   "metadata": {},
   "source": [
    "### Методи класу"
   ]
  },
  {
   "cell_type": "code",
   "execution_count": 10,
   "metadata": {},
   "outputs": [
    {
     "name": "stdout",
     "output_type": "stream",
     "text": [
      "Я даю команду Собака голос: Собака каже ГАВВ\n",
      "Я даю команду Кіт голос: Собака каже МЯУУ\n",
      "Я даю команду Рибки голос: Рибки не вміє говорити!\n",
      "Я виклакаю метод з обєкта True та викликаю з класу True\n"
     ]
    }
   ],
   "source": [
    "class MyAnimals:\n",
    "    def __init__(self, animal_type, name, age = None) -> None:\n",
    "        \"\"\"\n",
    "        animal_type: Тут треба вказати вид Тварини;\n",
    "        name: Імя моєї Тваринки;\n",
    "        \"\"\"\n",
    "        self.type = animal_type\n",
    "        self.name = name\n",
    "        self.age = \"??\" if age == None else age\n",
    "    \n",
    "    def speak(self):\n",
    "        if self.type == \"Собака\":\n",
    "            return \"Собака каже ГАВВ\"\n",
    "        elif self.type == \"Кіт\":\n",
    "            return \"Собака каже МЯУУ\"\n",
    "        else:\n",
    "            return f\"{self.type} не вміє говорити!\"\n",
    "    \n",
    "    def has_fleas(self): # чи має тваринка блохи?\n",
    "        if self.type == \"Собака\":\n",
    "            return True\n",
    "        elif self.type == \"Кіт\":\n",
    "            return True\n",
    "        else:\n",
    "            return False\n",
    "\n",
    "\n",
    "a1 = MyAnimals(\"Собака\", \"Рекс\")\n",
    "a2 = MyAnimals(\"Кіт\", \"Мурзік\", 6)\n",
    "a3 = MyAnimals(\"Рибки\", \"Неони\")\n",
    "\n",
    "print(f\"Я даю команду {a1.type} голос: {a1.speak()}\")\n",
    "print(f\"Я даю команду {a2.type} голос: {a2.speak()}\")\n",
    "print(f\"Я даю команду {a3.type} голос: {a3.speak()}\")\n",
    "\n",
    "print(f\"Я виклакаю метод з обєкта {a1.has_fleas()} та викликаю з класу {MyAnimals.has_fleas(a1)}\")\n"
   ]
  },
  {
   "cell_type": "markdown",
   "metadata": {},
   "source": [
    "### Статичні методи та різниця з self"
   ]
  },
  {
   "cell_type": "code",
   "execution_count": 11,
   "metadata": {},
   "outputs": [
    {
     "name": "stdout",
     "output_type": "stream",
     "text": [
      "Я викликаю метод <function MyAnimals.speak at 0x7f3bc373ce50> з обєкту | Моя тваринка Рекс почала Гавкати | та можу викликати з класу | Моя тваринка Рекс почала Гавкати |\n",
      "Викликаю статичний метод з обєкта Тваринка вже біжить до мене та з класу Тваринка вже біжить до мене\n"
     ]
    }
   ],
   "source": [
    "class MyAnimals:\n",
    "    def __init__(self, animal_type, name) -> None:\n",
    "        self.type = animal_type\n",
    "        self.name = name\n",
    "    \n",
    "    def speak(self):\n",
    "        return f\"Моя тваринка {self.name} почала Гавкати\"\n",
    "    \n",
    "    @staticmethod\n",
    "    def call_my_pet():\n",
    "        return \"Тваринка вже біжить до мене\"\n",
    "\n",
    "\n",
    "a1 = MyAnimals(\"Собака\", \"Рекс\")\n",
    "\n",
    "print(f\"Я викликаю метод {MyAnimals.speak} з обєкту | {a1.speak()} | та можу викликати з класу | {MyAnimals.speak(a1)} |\")\n",
    "print(f\"Викликаю статичний метод з обєкта {a1.call_my_pet()} та з класу {MyAnimals.call_my_pet()}\")"
   ]
  },
  {
   "cell_type": "markdown",
   "metadata": {},
   "source": [
    "### Робота з змінними класу"
   ]
  },
  {
   "cell_type": "code",
   "execution_count": 12,
   "metadata": {},
   "outputs": [
    {
     "name": "stdout",
     "output_type": "stream",
     "text": [
      "Тваринка Собака, її імя: Рекс\n",
      "Тваринка Собака, її імя: Шарік\n",
      "Тваринка Собака, її імя: Мурзік\n",
      "В мене є тваринки {'Кіт', 'Собака'}, і їх всього разом 4\n",
      "В мене є тваринки {'Кіт', 'Собака'}, і їх всього разом 4\n",
      "['Збираємо тваринок', 'Yes']\n"
     ]
    }
   ],
   "source": [
    "class MyAnimals:\n",
    "    total = int(0)\n",
    "    total_types = set()\n",
    "\n",
    "    def __init__(self, animal_type, name) -> None:\n",
    "        self.type = animal_type\n",
    "        self.name = name\n",
    "        MyAnimals.total_types.add(animal_type)\n",
    "        MyAnimals.total += 1\n",
    "\n",
    "ll = []\n",
    "names = [\"Рекс\", \"Шарік\", \"Мурзік\"]\n",
    "for i in range(3):\n",
    "    ll.append(MyAnimals(\"Собака\", names[i]))\n",
    "    print(f\"Тваринка {ll[i].type}, її імя: {ll[i].name}\")\n",
    "\n",
    "a1 = MyAnimals(\"Кіт\", \"Мурка\")\n",
    "\n",
    "MyAnimals.pets = [\"Збираємо тваринок\"]\n",
    "\n",
    "print(f\"В мене є тваринки {MyAnimals.total_types}, і їх всього разом {MyAnimals.total}\")\n",
    "print(f\"В мене є тваринки {a1.total_types}, і їх всього разом {a1.total}\")\n",
    "a1.pets.append(\"Yes\")\n",
    "print(a1.pets)\n"
   ]
  },
  {
   "cell_type": "markdown",
   "metadata": {},
   "source": [
    "### Досліджуємо properties"
   ]
  },
  {
   "cell_type": "code",
   "execution_count": 13,
   "metadata": {},
   "outputs": [
    {
     "name": "stdout",
     "output_type": "stream",
     "text": [
      "Мурка народилась 2018 році\n",
      "Мурка народилась 2017 році\n"
     ]
    }
   ],
   "source": [
    "from datetime import datetime\n",
    "class MyAnimals:\n",
    "    def __init__(self, animal_type, name, age) -> None:\n",
    "        self.type = animal_type\n",
    "        self.name = name\n",
    "        self.age = age\n",
    "    \n",
    "    @property\n",
    "    def get_my_pet_bithrday(self):\n",
    "        return datetime.today().year - self.age\n",
    "    \n",
    "    def add_one_year(self):\n",
    "        self.age += 1\n",
    "\n",
    "a1 = MyAnimals(\"Кіт\", \"Мурка\", 4)\n",
    "print(f\"{a1.name} народилась {a1.get_my_pet_bithrday} році\")\n",
    "a1.add_one_year()\n",
    "print(f\"{a1.name} народилась {a1.get_my_pet_bithrday} році\")"
   ]
  },
  {
   "cell_type": "markdown",
   "metadata": {},
   "source": [
    "### Методи класу"
   ]
  },
  {
   "cell_type": "code",
   "execution_count": 14,
   "metadata": {},
   "outputs": [
    {
     "name": "stdout",
     "output_type": "stream",
     "text": [
      "Перший обєкт створено нормально, імя тваринки Мурка\n",
      "Другий обєкт створено через класовий метод, імя тваринки РексПийФервекс\n"
     ]
    },
    {
     "data": {
      "text/plain": [
       "1"
      ]
     },
     "execution_count": 14,
     "metadata": {},
     "output_type": "execute_result"
    }
   ],
   "source": [
    "class MyAnimals:\n",
    "    total_from_csv = int(0)\n",
    "    def __init__(self, animal_type, name, age) -> None:\n",
    "        self.type = animal_type\n",
    "        self.name = name\n",
    "        self.age = age\n",
    "    \n",
    "    @classmethod\n",
    "    def create_obj_from_csv(cls, csv_data:str):\n",
    "        type, name, age = csv_data.split(\",\")\n",
    "        cls.total_from_csv += 1\n",
    "        return cls(type, name, age)\n",
    "\n",
    "\n",
    "a1 = MyAnimals(\"Кіт\", \"Мурка\", 4)\n",
    "a2 = MyAnimals.create_obj_from_csv(\"Собака,РексПийФервекс,5\")\n",
    "print(f\"Перший обєкт створено нормально, імя тваринки {a1.name}\")\n",
    "print(f\"Другий обєкт створено через класовий метод, імя тваринки {a2.name}\")\n",
    "a2.total_from_csv\n"
   ]
  }
 ],
 "metadata": {
  "kernelspec": {
   "display_name": "Python 3.10.7 64-bit",
   "language": "python",
   "name": "python3"
  },
  "language_info": {
   "codemirror_mode": {
    "name": "ipython",
    "version": 3
   },
   "file_extension": ".py",
   "mimetype": "text/x-python",
   "name": "python",
   "nbconvert_exporter": "python",
   "pygments_lexer": "ipython3",
   "version": "3.10.7"
  },
  "orig_nbformat": 4,
  "vscode": {
   "interpreter": {
    "hash": "e7370f93d1d0cde622a1f8e1c04877d8463912d04d973331ad4851f04de6915a"
   }
  }
 },
 "nbformat": 4,
 "nbformat_minor": 2
}
